{
 "cells": [
  {
   "cell_type": "markdown",
   "metadata": {},
   "source": [
    "# Result Analysis for Deephyper Graph Neural Network\n",
    "### Author: Shengli Jiang (sjiang87@wisc.edu)\n",
    "\n",
    "### Datasets: QM7, QM8, QM9, ESOL, FreeSolv, Lipophilicity"
   ]
  },
  {
   "cell_type": "code",
   "execution_count": 10,
   "metadata": {},
   "outputs": [],
   "source": [
    "import matplotlib\n",
    "import tensorflow as tf\n",
    "import matplotlib.pyplot as plt\n",
    "import seaborn as sns\n",
    "import numpy as np\n",
    "from sklearn.preprocessing import OneHotEncoder\n",
    "from sklearn.ensemble import RandomForestRegressor\n",
    "\n",
    "import pandas as pd\n",
    "\n",
    "from analysis_utils import load_json, to_sec, three_random_split, three_random_mean_std, create_csv\n",
    "\n",
    "sns.set()\n",
    "sns.set_context(\"talk\", font_scale=1.5)\n",
    "matplotlib.rcParams['mathtext.fontset'] = 'stix'\n",
    "matplotlib.rcParams['font.family'] = 'STIXGeneral'\n",
    "matplotlib.rcParams['font.size'] = 20\n",
    "matplotlib.rcParams['xtick.labelsize'] = 20\n",
    "matplotlib.rcParams['ytick.labelsize'] = 20\n",
    "matplotlib.rcParams['axes.labelsize'] = 20\n",
    "matplotlib.rcParams['legend.title_fontsize'] = 20\n",
    "matplotlib.rcParams['legend.fontsize'] = 20\n",
    "matplotlib.rcParams['axes.axisbelow'] = True\n",
    "matplotlib.rcParams['figure.figsize'] = [8, 6]\n",
    "matplotlib.rcParams[\"scatter.marker\"] = 'o'\n",
    "matplotlib.rcParams[\"lines.markersize\"] = 5"
   ]
  },
  {
   "cell_type": "markdown",
   "metadata": {},
   "source": [
    "### 1 Generate reward vs time figure"
   ]
  },
  {
   "cell_type": "code",
   "execution_count": 11,
   "metadata": {},
   "outputs": [],
   "source": [
    "def plot_reward_vs_time(data, PLOT_DIR, ylim=None, time=True, plot=False):\n",
    "    start_infos = data['start_infos'][0]\n",
    "    try:\n",
    "        start_time = to_sec(data['workload']['times'][0])\n",
    "    except:\n",
    "        start_time = to_sec(start_infos['timestamp'])\n",
    "    times = [to_sec(ts)-start_time for ts in data['timestamps']]\n",
    "    x = times\n",
    "    y = data['raw_rewards']\n",
    "    plt.figure(figsize=(8.5, 6))\n",
    "    if time:\n",
    "        plt.plot(x, y, 'o', markersize=3)\n",
    "        plt.xlabel('Time (sec)')\n",
    "    else:\n",
    "        plt.plot(y, 'o', markersize=3)\n",
    "        plt.xlabel('Iterations')\n",
    "    plt.ylabel('Reward (-MAE)')\n",
    "    \n",
    "    plt.xlim(left=0)\n",
    "    if ylim is not None:\n",
    "        plt.ylim(ylim)\n",
    "    plt.locator_params(axis='y', nbins=6)\n",
    "    plt.savefig(PLOT_DIR+'reward.png', dpi=300)\n",
    "    if not plot:\n",
    "        plt.close();"
   ]
  },
  {
   "cell_type": "markdown",
   "metadata": {},
   "source": [
    "### 2.3 Three random split data parity plot"
   ]
  },
  {
   "cell_type": "code",
   "execution_count": 12,
   "metadata": {},
   "outputs": [],
   "source": [
    "def three_random_parity_plot(DATA_DIR, PLOT_DIR, multi_class=False, limits=None, plot=False):\n",
    "    _, _, _, _, y_true_raw, y_pred_raw = three_random_split(DATA_DIR, multi_class=multi_class)\n",
    "    if not multi_class:\n",
    "        y_true = y_true_raw.ravel()\n",
    "        y_pred = y_pred_raw.ravel()\n",
    "        plt.figure(figsize=(8,6))\n",
    "        min_value = np.min([y_true.min(), y_pred.min()])\n",
    "        max_value = np.max([y_true.max(), y_pred.max()])\n",
    "        dist = max_value - min_value\n",
    "        min_value -= 0.03*dist\n",
    "        max_value += 0.03*dist\n",
    "        if limits is not None:\n",
    "            min_value, max_value = limits\n",
    "        plt.plot(np.linspace(min_value, max_value, 100), np.linspace(min_value, max_value, 100), 'k--', alpha=0.5)\n",
    "        plt.scatter(y_true.ravel(), y_pred.ravel(), s=5, alpha=0.9)\n",
    "        plt.xlim(min_value, max_value)\n",
    "        plt.ylim(min_value, max_value)\n",
    "        plt.xlabel(\"True\")\n",
    "        plt.ylabel(\"Predicted\")\n",
    "        plt.axis(\"square\")\n",
    "        plt.locator_params(axis='x', nbins=5)\n",
    "        plt.locator_params(axis='y', nbins=5)\n",
    "        plt.savefig(PLOT_DIR + \"parity_plot.png\")\n",
    "        if not plot:\n",
    "            plt.close();\n",
    "    else:\n",
    "        for c in range(y_true_raw.shape[-1]):\n",
    "            y_true = y_true_raw[..., c].ravel()\n",
    "            y_pred = y_pred_raw[..., c].ravel()\n",
    "            plt.figure(figsize=(8,6))\n",
    "            min_value = np.min([y_true.min(), y_pred.min()])\n",
    "            max_value = np.max([y_true.max(), y_pred.max()])\n",
    "            dist = max_value - min_value\n",
    "            min_value -= 0.03*dist\n",
    "            max_value += 0.03*dist\n",
    "            if limits is not None:\n",
    "                min_value, max_value = limits\n",
    "            plt.plot(np.linspace(min_value, max_value, 100), np.linspace(min_value, max_value, 100), 'k--', alpha=0.5)\n",
    "            plt.scatter(y_true.ravel(), y_pred.ravel(), s=5, alpha=0.9)\n",
    "            plt.xlim(min_value, max_value)\n",
    "            plt.ylim(min_value, max_value)\n",
    "            plt.xlabel(\"True\")\n",
    "            plt.ylabel(\"Predicted\")\n",
    "            plt.axis(\"square\")\n",
    "            plt.locator_params(axis='x', nbins=5)\n",
    "            plt.locator_params(axis='y', nbins=5)\n",
    "            plt.savefig(PLOT_DIR + f\"parity_plot_{c}.png\")\n",
    "            if not plot:\n",
    "                plt.close();"
   ]
  },
  {
   "cell_type": "markdown",
   "metadata": {},
   "source": [
    "### 3.1 CSV file to feature importance"
   ]
  },
  {
   "cell_type": "code",
   "execution_count": 13,
   "metadata": {},
   "outputs": [],
   "source": [
    "def feature_importance(DATA_DIR, PLOT_DIR):\n",
    "    train_data = pd.read_csv(DATA_DIR + 'nas_result.csv', header=None)\n",
    "    df = train_data\n",
    "    df_new = pd.DataFrame()\n",
    "    for i in range(df.shape[1]):\n",
    "        if (df.dtypes[i] == 'object'):\n",
    "            vals = pd.get_dummies(df.iloc[:,i])\n",
    "        else:\n",
    "            vals = df.iloc[:,i]\n",
    "        df_new = pd.concat([df_new.reset_index(drop=True), vals.reset_index(drop=True)], axis=1)\n",
    "    X,y = df_new.values[:,0:-1], df_new.values[:,-1]\n",
    "    X_train = X\n",
    "    y_train = y\n",
    "    rf = RandomForestRegressor(max_depth=10, random_state=0, n_estimators=10)\n",
    "    rf.fit(X_train, y_train)  \n",
    "    y_pred = rf.predict(X_train)\n",
    "    importances = rf.feature_importances_\n",
    "    indices = np.argsort(importances)[-20:] \n",
    "    features = df_new.columns \n",
    "    plt.figure(figsize=(12,6))\n",
    "    plt.barh(range(len(indices)), importances[indices], color='b', align='center')\n",
    "    plt.yticks(range(len(indices)), [features[i] for i in indices])\n",
    "    plt.xlabel('Relative Importance')\n",
    "    plt.tight_layout()\n",
    "    plt.savefig(PLOT_DIR + 'feature_importance.png')\n",
    "    return X, y, features, rf\n",
    "#     print(df.values[y.argsort()[-10:][::-1],:])"
   ]
  },
  {
   "cell_type": "markdown",
   "metadata": {},
   "source": [
    "### 4.1 MoleculeNet vs Deephyeper"
   ]
  },
  {
   "cell_type": "code",
   "execution_count": 14,
   "metadata": {},
   "outputs": [],
   "source": [
    "def mol_vs_deep(DATA_DIR, PLOT_DIR, mol_m, mol_s, metric='MAE', plot=False):\n",
    "    m, s = three_random_mean_std(DATA_DIR=DATA_DIR)\n",
    "    labels = [\"Train\", \"Valid\", \"Test\"]\n",
    "    if metric is 'MAE':\n",
    "        m = m[:3]\n",
    "        s = s[:3]\n",
    "    if metric is 'MSE':\n",
    "        m = m[3:6]\n",
    "        s = s[3:6]\n",
    "    plt.figure()\n",
    "    plt.barh([0.25,-1.75,-3.75], m, color=\"maroon\", align='center', height=0.5, label=\"Deephyper\", xerr=s, capsize=5)\n",
    "    plt.barh([-0.25,-2.25,-4.25], mol_m, color=\"gray\", align='center', height=0.5, label=\"MoleculeNet\", xerr=mol_s, capsize=5)\n",
    "    plt.yticks([0,-2,-4], labels)\n",
    "    plt.xlabel(f\"{metric}\")\n",
    "    plt.legend(loc=1)\n",
    "    plt.savefig(PLOT_DIR + f\"{metric}_compare.png\", dpi=300)\n",
    "    if not plot:\n",
    "        plt.close();"
   ]
  },
  {
   "cell_type": "markdown",
   "metadata": {},
   "source": [
    "# QM7"
   ]
  },
  {
   "cell_type": "code",
   "execution_count": 15,
   "metadata": {},
   "outputs": [],
   "source": [
    "QM7_PLOT_DIR = r\"/mnt/d/plots/anl/qm7/\"\n",
    "QM7_DATA_DIR = r\"/mnt/d/machinelearning2/ANL/qm7/run_0721/\"\n",
    "QM7_data = load_json(QM7_DATA_DIR + 'data_2020-07-25_03.json')"
   ]
  },
  {
   "cell_type": "code",
   "execution_count": 17,
   "metadata": {},
   "outputs": [
    {
     "name": "stdout",
     "output_type": "stream",
     "text": [
      "       MAE               MSE                    R2\n",
      "-----  ----------------  ---------------------  ---------------\n",
      "Train  39.8414+/-0.8927  11406.9857+/-315.7167  0.7739+/-0.0063\n",
      "Valid  41.5313+/-0.3054  11872.5280+/-27.8721   0.7365+/-0.0006\n",
      "Test   38.4765+/-0.0840  10726.3597+/-66.6328   0.7760+/-0.0014\n"
     ]
    }
   ],
   "source": [
    "plot_reward_vs_time(QM7_data, QM7_PLOT_DIR, plot=False)\n",
    "three_random_parity_plot(QM7_DATA_DIR, QM7_PLOT_DIR, plot=False)\n",
    "mol_vs_deep(QM7_DATA_DIR, QM7_PLOT_DIR, [67.8, 77.9, 77.9], [4.0, 10.0, 2.1], metric='MAE', plot=False)"
   ]
  },
  {
   "cell_type": "code",
   "execution_count": null,
   "metadata": {},
   "outputs": [],
   "source": []
  },
  {
   "cell_type": "markdown",
   "metadata": {},
   "source": [
    "# QM8"
   ]
  },
  {
   "cell_type": "code",
   "execution_count": 18,
   "metadata": {},
   "outputs": [],
   "source": [
    "QM8_PLOT_DIR = r\"/mnt/d/plots/anl/qm8/\"\n",
    "QM8_DATA_DIR = r\"/mnt/d/machinelearning2/ANL/qm8/run_0721/\"\n",
    "QM8_data = load_json(QM8_DATA_DIR + 'data_2020-07-25_14.json')"
   ]
  },
  {
   "cell_type": "code",
   "execution_count": 19,
   "metadata": {},
   "outputs": [
    {
     "name": "stdout",
     "output_type": "stream",
     "text": [
      "       MAE              MSE              R2\n",
      "-----  ---------------  ---------------  ---------------\n",
      "Train  0.0091+/-0.0004  0.0005+/-0.0000  0.9600+/-0.0025\n",
      "Valid  0.0122+/-0.0001  0.0008+/-0.0000  0.9360+/-0.0007\n",
      "Test   0.0122+/-0.0001  0.0008+/-0.0000  0.9344+/-0.0015\n"
     ]
    }
   ],
   "source": [
    "plot_reward_vs_time(QM8_data, QM8_PLOT_DIR, ylim=[-0.5, None], plot=False)\n",
    "three_random_parity_plot(QM8_DATA_DIR, QM8_PLOT_DIR, plot=False)\n",
    "three_random_parity_plot(QM8_DATA_DIR, QM8_PLOT_DIR, multi_class=True, plot=False)\n",
    "mol_vs_deep(QM8_DATA_DIR, QM8_PLOT_DIR, [0.0128, 0.0146, 0.0143], [0.001, 0.001, 0.0011], metric='MAE', plot=False)"
   ]
  },
  {
   "cell_type": "code",
   "execution_count": 10,
   "metadata": {
    "scrolled": true
   },
   "outputs": [
    {
     "name": "stdout",
     "output_type": "stream",
     "text": [
      "       MAE              MSE              R2\n",
      "-----  ---------------  ---------------  ---------------\n",
      "Train  0.0052+/-0.0002  0.0001+/-0.0000  0.9708+/-0.0022\n",
      "Valid  0.0068+/-0.0001  0.0001+/-0.0000  0.9468+/-0.0006\n",
      "Test   0.0065+/-0.0001  0.0001+/-0.0000  0.9546+/-0.0012\n",
      "       MAE              MSE              R2\n",
      "-----  ---------------  ---------------  ---------------\n",
      "Train  0.0063+/-0.0001  0.0001+/-0.0000  0.9320+/-0.0012\n",
      "Valid  0.0078+/-0.0000  0.0001+/-0.0000  0.8942+/-0.0015\n",
      "Test   0.0080+/-0.0001  0.0001+/-0.0000  0.8966+/-0.0010\n",
      "       MAE              MSE              R2\n",
      "-----  ---------------  ---------------  ---------------\n",
      "Train  0.0103+/-0.0003  0.0008+/-0.0000  0.7244+/-0.0066\n",
      "Valid  0.0129+/-0.0001  0.0011+/-0.0000  0.6547+/-0.0067\n",
      "Test   0.0129+/-0.0002  0.0011+/-0.0000  0.5685+/-0.0152\n",
      "       MAE              MSE              R2\n",
      "-----  ---------------  ---------------  ---------------\n",
      "Train  0.0247+/-0.0009  0.0027+/-0.0001  0.5045+/-0.0174\n",
      "Valid  0.0288+/-0.0002  0.0031+/-0.0000  0.3961+/-0.0074\n",
      "Test   0.0292+/-0.0003  0.0033+/-0.0001  0.3230+/-0.0158\n",
      "       MAE              MSE              R2\n",
      "-----  ---------------  ---------------  ---------------\n",
      "Train  0.0048+/-0.0002  0.0000+/-0.0000  0.9792+/-0.0019\n",
      "Valid  0.0065+/-0.0001  0.0001+/-0.0000  0.9620+/-0.0007\n",
      "Test   0.0064+/-0.0001  0.0001+/-0.0000  0.9654+/-0.0011\n",
      "       MAE              MSE              R2\n",
      "-----  ---------------  ---------------  ---------------\n",
      "Train  0.0054+/-0.0002  0.0001+/-0.0000  0.9653+/-0.0027\n",
      "Valid  0.0073+/-0.0001  0.0001+/-0.0000  0.9361+/-0.0004\n",
      "Test   0.0073+/-0.0000  0.0001+/-0.0000  0.9384+/-0.0009\n",
      "       MAE              MSE              R2\n",
      "-----  ---------------  ---------------  ---------------\n",
      "Train  0.0063+/-0.0003  0.0003+/-0.0000  0.8914+/-0.0099\n",
      "Valid  0.0101+/-0.0002  0.0008+/-0.0000  0.7222+/-0.0115\n",
      "Test   0.0099+/-0.0002  0.0006+/-0.0000  0.7332+/-0.0186\n",
      "       MAE              MSE              R2\n",
      "-----  ---------------  ---------------  ---------------\n",
      "Train  0.0145+/-0.0011  0.0009+/-0.0001  0.7453+/-0.0311\n",
      "Valid  0.0215+/-0.0003  0.0019+/-0.0000  0.5105+/-0.0009\n",
      "Test   0.0219+/-0.0003  0.0020+/-0.0000  0.4370+/-0.0091\n",
      "       MAE              MSE              R2\n",
      "-----  ---------------  ---------------  ---------------\n",
      "Train  0.0048+/-0.0002  0.0000+/-0.0000  0.9792+/-0.0019\n",
      "Valid  0.0065+/-0.0001  0.0001+/-0.0000  0.9619+/-0.0008\n",
      "Test   0.0064+/-0.0001  0.0001+/-0.0000  0.9654+/-0.0010\n",
      "       MAE              MSE              R2\n",
      "-----  ---------------  ---------------  ---------------\n",
      "Train  0.0054+/-0.0002  0.0001+/-0.0000  0.9651+/-0.0028\n",
      "Valid  0.0073+/-0.0001  0.0001+/-0.0000  0.9359+/-0.0003\n",
      "Test   0.0073+/-0.0000  0.0001+/-0.0000  0.9383+/-0.0010\n",
      "       MAE              MSE              R2\n",
      "-----  ---------------  ---------------  ---------------\n",
      "Train  0.0063+/-0.0003  0.0003+/-0.0000  0.8912+/-0.0098\n",
      "Valid  0.0101+/-0.0002  0.0008+/-0.0000  0.7222+/-0.0116\n",
      "Test   0.0099+/-0.0002  0.0006+/-0.0000  0.7330+/-0.0185\n",
      "       MAE              MSE              R2\n",
      "-----  ---------------  ---------------  ---------------\n",
      "Train  0.0146+/-0.0011  0.0009+/-0.0001  0.7449+/-0.0320\n",
      "Valid  0.0215+/-0.0003  0.0019+/-0.0000  0.5101+/-0.0008\n",
      "Test   0.0219+/-0.0003  0.0020+/-0.0000  0.4372+/-0.0094\n",
      "       MAE              MSE              R2\n",
      "-----  ---------------  ---------------  ---------------\n",
      "Train  0.0047+/-0.0002  0.0000+/-0.0000  0.9778+/-0.0016\n",
      "Valid  0.0062+/-0.0001  0.0001+/-0.0000  0.9593+/-0.0005\n",
      "Test   0.0061+/-0.0001  0.0001+/-0.0000  0.9631+/-0.0007\n",
      "       MAE              MSE              R2\n",
      "-----  ---------------  ---------------  ---------------\n",
      "Train  0.0053+/-0.0002  0.0001+/-0.0000  0.9601+/-0.0022\n",
      "Valid  0.0068+/-0.0000  0.0001+/-0.0000  0.9292+/-0.0005\n",
      "Test   0.0069+/-0.0001  0.0001+/-0.0000  0.9313+/-0.0010\n",
      "       MAE              MSE              R2\n",
      "-----  ---------------  ---------------  ---------------\n",
      "Train  0.0084+/-0.0006  0.0006+/-0.0001  0.8279+/-0.0296\n",
      "Valid  0.0118+/-0.0003  0.0010+/-0.0001  0.7196+/-0.0175\n",
      "Test   0.0111+/-0.0004  0.0009+/-0.0000  0.7326+/-0.0120\n",
      "       MAE              MSE              R2\n",
      "-----  ---------------  ---------------  ---------------\n",
      "Train  0.0181+/-0.0009  0.0014+/-0.0001  0.6890+/-0.0201\n",
      "Valid  0.0236+/-0.0002  0.0022+/-0.0000  0.4884+/-0.0019\n",
      "Test   0.0233+/-0.0004  0.0021+/-0.0000  0.5096+/-0.0100\n"
     ]
    },
    {
     "data": {
      "text/plain": [
       "(array([0.01808341, 0.02356153, 0.023254  , 0.00140706, 0.0021738 ,\n",
       "        0.00213026, 0.68899773, 0.48841749, 0.50963669]),\n",
       " array([8.74228402e-04, 2.04581291e-04, 4.32494615e-04, 9.08982000e-05,\n",
       "        8.14715661e-06, 4.35908104e-05, 2.00912751e-02, 1.91735137e-03,\n",
       "        1.00341360e-02]))"
      ]
     },
     "execution_count": 10,
     "metadata": {},
     "output_type": "execute_result"
    }
   ],
   "source": [
    "three_random_mean_std(QM8_DATA_DIR, multi_class=True)"
   ]
  },
  {
   "cell_type": "markdown",
   "metadata": {},
   "source": [
    "### QM9"
   ]
  },
  {
   "cell_type": "code",
   "execution_count": 20,
   "metadata": {},
   "outputs": [],
   "source": [
    "QM9_PLOT_DIR = r\"/mnt/d/plots/anl/qm9/\"\n",
    "QM9_DATA_DIR = r\"/mnt/d/machinelearning2/ANL/qm9/run_0721/\"\n",
    "QM9_data = load_json(QM9_DATA_DIR + 'data_2020-07-24_04.json')"
   ]
  },
  {
   "cell_type": "code",
   "execution_count": 21,
   "metadata": {},
   "outputs": [],
   "source": [
    "plot_reward_vs_time(QM9_data, QM9_PLOT_DIR, plot=False)"
   ]
  },
  {
   "cell_type": "code",
   "execution_count": 19,
   "metadata": {},
   "outputs": [
    {
     "name": "stdout",
     "output_type": "stream",
     "text": [
      "       MAE              MSE                R2\n",
      "-----  ---------------  -----------------  ---------------\n",
      "Train  4.7401+/-0.0000  473.9075+/-0.0000  0.9974+/-0.0000\n",
      "Valid  4.4709+/-0.0000  441.0853+/-0.0000  0.9976+/-0.0000\n",
      "Test   4.4593+/-0.0000  419.5709+/-0.0000  0.9977+/-0.0000\n"
     ]
    },
    {
     "data": {
      "image/png": "[encoded data removed]",
      "text/plain": [
       "<Figure size 576x432 with 1 Axes>"
      ]
     },
     "metadata": {},
     "output_type": "display_data"
    }
   ],
   "source": [
    "mol_vs_deep(QM9_DATA_DIR, QM9_PLOT_DIR, [2.3, 2.4, 2.4], [1.1, 1.1, 1.1], metric='MAE')"
   ]
  },
  {
   "cell_type": "code",
   "execution_count": 16,
   "metadata": {},
   "outputs": [
    {
     "name": "stdout",
     "output_type": "stream",
     "text": [
      "       MAE              MSE              R2\n",
      "-----  ---------------  ---------------  ---------------\n",
      "Train  0.6336+/-0.0000  0.8675+/-0.0000  0.6294+/-0.0000\n",
      "Valid  0.6395+/-0.0000  0.8664+/-0.0000  0.6294+/-0.0000\n",
      "Test   0.6405+/-0.0000  0.8780+/-0.0000  0.6273+/-0.0000\n",
      "       MAE              MSE              R2\n",
      "-----  ---------------  ---------------  ---------------\n",
      "Train  0.7597+/-0.0000  1.4437+/-0.0000  0.9785+/-0.0000\n",
      "Valid  0.7076+/-0.0000  1.1269+/-0.0000  0.9825+/-0.0000\n",
      "Test   0.7224+/-0.0000  1.2458+/-0.0000  0.9816+/-0.0000\n",
      "       MAE              MSE              R2\n",
      "-----  ---------------  ---------------  ---------------\n",
      "Train  0.0064+/-0.0000  0.0001+/-0.0000  0.8373+/-0.0000\n",
      "Valid  0.0063+/-0.0000  0.0001+/-0.0000  0.8431+/-0.0000\n",
      "Test   0.0063+/-0.0000  0.0001+/-0.0000  0.8479+/-0.0000\n",
      "       MAE              MSE              R2\n",
      "-----  ---------------  ---------------  ---------------\n",
      "Train  0.0070+/-0.0000  0.0001+/-0.0000  0.9556+/-0.0000\n",
      "Valid  0.0067+/-0.0000  0.0001+/-0.0000  0.9598+/-0.0000\n",
      "Test   0.0067+/-0.0000  0.0001+/-0.0000  0.9600+/-0.0000\n",
      "       MAE              MSE              R2\n",
      "-----  ---------------  ---------------  ---------------\n",
      "Train  0.0092+/-0.0000  0.0002+/-0.0000  0.9222+/-0.0000\n",
      "Valid  0.0088+/-0.0000  0.0002+/-0.0000  0.9304+/-0.0000\n",
      "Test   0.0089+/-0.0000  0.0002+/-0.0000  0.9288+/-0.0000\n",
      "       MAE               MSE                 R2\n",
      "-----  ----------------  ------------------  ---------------\n",
      "Train  54.4200+/-0.0000  5683.8726+/-0.0000  0.9277+/-0.0000\n",
      "Valid  51.2653+/-0.0000  5290.4888+/-0.0000  0.9297+/-0.0000\n",
      "Test   51.1027+/-0.0000  5032.1870+/-0.0000  0.9356+/-0.0000\n",
      "       MAE              MSE              R2\n",
      "-----  ---------------  ---------------  ---------------\n",
      "Train  0.0006+/-0.0000  0.0000+/-0.0000  0.9994+/-0.0000\n",
      "Valid  0.0006+/-0.0000  0.0000+/-0.0000  0.9995+/-0.0000\n",
      "Test   0.0006+/-0.0000  0.0000+/-0.0000  0.9994+/-0.0000\n",
      "       MAE              MSE              R2\n",
      "-----  ---------------  ---------------  ---------------\n",
      "Train  0.4222+/-0.0000  0.3356+/-0.0000  0.9797+/-0.0000\n",
      "Valid  0.4155+/-0.0000  0.3380+/-0.0000  0.9791+/-0.0000\n",
      "Test   0.4149+/-0.0000  0.3361+/-0.0000  0.9797+/-0.0000\n",
      "       MAE              MSE              R2\n",
      "-----  ---------------  ---------------  ---------------\n",
      "Train  0.1638+/-0.0000  0.0958+/-0.0000  0.9999+/-0.0000\n",
      "Valid  0.1581+/-0.0000  0.0540+/-0.0000  1.0000+/-0.0000\n",
      "Test   0.1597+/-0.0000  0.0541+/-0.0000  1.0000+/-0.0000\n",
      "       MAE              MSE              R2\n",
      "-----  ---------------  ---------------  ---------------\n",
      "Train  0.1721+/-0.0000  0.1023+/-0.0000  0.9999+/-0.0000\n",
      "Valid  0.1687+/-0.0000  0.0621+/-0.0000  1.0000+/-0.0000\n",
      "Test   0.1705+/-0.0000  0.0609+/-0.0000  1.0000+/-0.0000\n",
      "       MAE              MSE              R2\n",
      "-----  ---------------  ---------------  ---------------\n",
      "Train  0.1453+/-0.0000  0.0871+/-0.0000  0.9999+/-0.0000\n",
      "Valid  0.1391+/-0.0000  0.0449+/-0.0000  1.0000+/-0.0000\n",
      "Test   0.1414+/-0.0000  0.0458+/-0.0000  1.0000+/-0.0000\n",
      "       MAE              MSE              R2\n",
      "-----  ---------------  ---------------  ---------------\n",
      "Train  0.1412+/-0.0000  0.0849+/-0.0000  0.9999+/-0.0000\n",
      "Valid  0.1347+/-0.0000  0.0426+/-0.0000  1.0000+/-0.0000\n",
      "Test   0.1368+/-0.0000  0.0430+/-0.0000  1.0000+/-0.0000\n"
     ]
    },
    {
     "data": {
      "text/plain": [
       "(array([0.14124094, 0.13468103, 0.13682376, 0.08486476, 0.04257677,\n",
       "        0.04301521, 0.9999474 , 0.9999727 , 0.99997279]),\n",
       " array([0.00000000e+00, 0.00000000e+00, 0.00000000e+00, 1.38777878e-17,\n",
       "        0.00000000e+00, 0.00000000e+00, 0.00000000e+00, 0.00000000e+00,\n",
       "        0.00000000e+00]))"
      ]
     },
     "execution_count": 16,
     "metadata": {},
     "output_type": "execute_result"
    }
   ],
   "source": [
    "three_random_mean_std(QM9_DATA_DIR, multi_class=True)"
   ]
  },
  {
   "cell_type": "code",
   "execution_count": 22,
   "metadata": {},
   "outputs": [],
   "source": [
    "three_random_parity_plot(QM9_DATA_DIR, QM9_PLOT_DIR, multi_class=True, plot=False)"
   ]
  },
  {
   "cell_type": "code",
   "execution_count": 23,
   "metadata": {},
   "outputs": [],
   "source": [
    "three_random_parity_plot(QM9_DATA_DIR, QM9_PLOT_DIR, plot=False)"
   ]
  },
  {
   "cell_type": "markdown",
   "metadata": {},
   "source": [
    "# ESOL"
   ]
  },
  {
   "cell_type": "code",
   "execution_count": 24,
   "metadata": {},
   "outputs": [],
   "source": [
    "ESOL_PLOT_DIR = r\"/mnt/d/plots/anl/ESOL/\"\n",
    "ESOL_DATA_DIR = r\"/mnt/d/machinelearning2/ANL/ESOL/run_0721/\"\n",
    "ESOL_data = load_json(ESOL_DATA_DIR + 'data_2020-07-24_13.json')"
   ]
  },
  {
   "cell_type": "code",
   "execution_count": 25,
   "metadata": {},
   "outputs": [
    {
     "name": "stdout",
     "output_type": "stream",
     "text": [
      "       MAE              MSE              R2\n",
      "-----  ---------------  ---------------  ---------------\n",
      "Train  0.2865+/-0.0236  0.1403+/-0.0256  0.9680+/-0.0059\n",
      "Valid  0.4673+/-0.0212  0.3945+/-0.0064  0.9153+/-0.0014\n",
      "Test   0.4015+/-0.0134  0.2867+/-0.0064  0.9310+/-0.0015\n"
     ]
    }
   ],
   "source": [
    "plot_reward_vs_time(ESOL_data, ESOL_PLOT_DIR, ylim=[-0.8, 0], plot=False)\n",
    "three_random_parity_plot(ESOL_DATA_DIR, ESOL_PLOT_DIR, plot=False)\n",
    "mol_vs_deep(ESOL_DATA_DIR, ESOL_PLOT_DIR, [0.25, 0.55, 0.58], [0.06, 0.02, 0.03], metric='MSE', plot=False)"
   ]
  },
  {
   "cell_type": "markdown",
   "metadata": {},
   "source": [
    "## FreeSolv"
   ]
  },
  {
   "cell_type": "code",
   "execution_count": 26,
   "metadata": {},
   "outputs": [],
   "source": [
    "FreeSolv_PLOT_DIR = r\"/mnt/d/plots/anl/FreeSolv/\"\n",
    "FreeSolv_DATA_DIR = r\"/mnt/d/machinelearning2/ANL/FreeSolv/run_0721_extra/\"\n",
    "FreeSolv_data = load_json(FreeSolv_DATA_DIR + 'data_2020-07-24_13.json')"
   ]
  },
  {
   "cell_type": "code",
   "execution_count": 27,
   "metadata": {},
   "outputs": [
    {
     "name": "stdout",
     "output_type": "stream",
     "text": [
      "       MAE              MSE              R2\n",
      "-----  ---------------  ---------------  ---------------\n",
      "Train  0.4371+/-0.1182  0.4434+/-0.2670  0.9696+/-0.0183\n",
      "Valid  0.5535+/-0.0081  0.6791+/-0.0263  0.9609+/-0.0015\n",
      "Test   0.6871+/-0.0485  1.4828+/-0.0079  0.8883+/-0.0006\n"
     ]
    }
   ],
   "source": [
    "plot_reward_vs_time(FreeSolv_data, FreeSolv_PLOT_DIR, ylim=[-1.0, 0], plot=False)\n",
    "three_random_parity_plot(FreeSolv_DATA_DIR, FreeSolv_PLOT_DIR, limits=(-15, 5), plot=False)\n",
    "mol_vs_deep(FreeSolv_DATA_DIR, FreeSolv_PLOT_DIR, [0.31, 1.20, 1.15], [0.05, 0.02, 0.12], metric='MSE', plot=False)"
   ]
  },
  {
   "cell_type": "markdown",
   "metadata": {},
   "source": [
    "## Lipophilicity"
   ]
  },
  {
   "cell_type": "code",
   "execution_count": 28,
   "metadata": {},
   "outputs": [],
   "source": [
    "LIPO_PLOT_DIR = r\"/mnt/d/plots/anl/Lipo/\"\n",
    "LIPO_DATA_DIR = r\"/mnt/d/machinelearning2/ANL/Lipo/run_0721/\"\n",
    "LIPO_data = load_json(LIPO_DATA_DIR + 'data_2020-07-21_14.json')"
   ]
  },
  {
   "cell_type": "code",
   "execution_count": 29,
   "metadata": {},
   "outputs": [
    {
     "name": "stdout",
     "output_type": "stream",
     "text": [
      "       MAE              MSE              R2\n",
      "-----  ---------------  ---------------  ---------------\n",
      "Train  0.3871+/-0.0377  0.2572+/-0.0441  0.8185+/-0.0311\n",
      "Valid  0.4550+/-0.0148  0.3656+/-0.0183  0.7620+/-0.0119\n",
      "Test   0.4678+/-0.0371  0.3598+/-0.0514  0.7728+/-0.0324\n"
     ]
    }
   ],
   "source": [
    "plot_reward_vs_time(LIPO_data, LIPO_PLOT_DIR, ylim=[-1.5, None], plot=False)\n",
    "three_random_parity_plot(LIPO_DATA_DIR, LIPO_PLOT_DIR, plot=False)\n",
    "mol_vs_deep(LIPO_DATA_DIR, LIPO_PLOT_DIR, [0.471, 0.678, 0.655], [0.001, 0.04, 0.036], metric='MSE', plot=False)"
   ]
  },
  {
   "cell_type": "code",
   "execution_count": null,
   "metadata": {},
   "outputs": [],
   "source": []
  },
  {
   "cell_type": "code",
   "execution_count": 30,
   "metadata": {},
   "outputs": [],
   "source": [
    "def feature_importance(DATA_DIR, PLOT_DIR):\n",
    "    train_data = pd.read_csv(DATA_DIR + 'nas_result.csv', header=None)\n",
    "    df = train_data\n",
    "    df_new = pd.DataFrame()\n",
    "    for i in range(df.shape[1]):\n",
    "        if (df.dtypes[i] == 'object'):\n",
    "            vals = pd.get_dummies(df.iloc[:,i])\n",
    "        else:\n",
    "            vals = df.iloc[:,i]\n",
    "        df_new = pd.concat([df_new.reset_index(drop=True), vals.reset_index(drop=True)], axis=1)\n",
    "    X,y = df_new.values[:,0:-1], df_new.values[:,-1]\n",
    "    X_train = X\n",
    "    y_train = y\n",
    "    rf = RandomForestRegressor(n_estimators = 100,\n",
    "                           n_jobs = -1,\n",
    "                           oob_score = True,\n",
    "                           bootstrap = True,\n",
    "                           random_state = 0)\n",
    "    rf.fit(X_train, y_train)  \n",
    "    y_pred = rf.predict(X_train)\n",
    "    importances = rf.feature_importances_\n",
    "    indices = np.argsort(importances)[-20:] \n",
    "    features = df_new.columns \n",
    "    plt.figure(figsize=(12,6))\n",
    "    plt.barh(range(len(indices)), importances[indices], color='b', align='center')\n",
    "    plt.yticks(range(len(indices)), [features[i] for i in indices])\n",
    "    plt.xlabel('Relative Importance')\n",
    "    plt.tight_layout()\n",
    "    plt.savefig(PLOT_DIR + 'feature_importance.png')\n",
    "    print(rf.score(X_train, y_train), rf.oob_score_)\n",
    "    return X, y, features, rf\n",
    "#     print(df.values[y.argsort()[-10:][::-1],:])"
   ]
  },
  {
   "cell_type": "code",
   "execution_count": 269,
   "metadata": {},
   "outputs": [],
   "source": [
    "create_csv(ESOL_DATA_DIR, ESOL_data)"
   ]
  },
  {
   "cell_type": "code",
   "execution_count": 270,
   "metadata": {},
   "outputs": [],
   "source": [
    "train_data = pd.read_csv(ESOL_DATA_DIR + 'nas_result.csv', header=None)\n",
    "df = train_data\n",
    "df_new = pd.DataFrame()\n",
    "for i in range(df.shape[1]):\n",
    "    if (df.dtypes[i] == 'object'):\n",
    "        vals = pd.get_dummies(df.iloc[:,i])\n",
    "    else:\n",
    "        vals = df.iloc[:,i]\n",
    "    df_new = pd.concat([df_new.reset_index(drop=True), vals.reset_index(drop=True)], axis=1)\n",
    "X = df_new.iloc[:, :-1]\n",
    "y = df_new.iloc[:, -1]"
   ]
  },
  {
   "cell_type": "code",
   "execution_count": 271,
   "metadata": {},
   "outputs": [],
   "source": [
    "import lime\n",
    "import lime.lime_tabular\n",
    "import sklearn.model_selection\n",
    "from sklearn.preprocessing import StandardScaler\n",
    "scaler = StandardScaler()\n",
    "y = scaler.fit_transform(y.values[..., np.newaxis]).squeeze()\n",
    "train, test, labels_train, labels_test = sklearn.model_selection.train_test_split(X.values, y, train_size=0.80, random_state=0)"
   ]
  },
  {
   "cell_type": "code",
   "execution_count": 272,
   "metadata": {},
   "outputs": [],
   "source": [
    "from sklearn.ensemble import RandomForestRegressor as a\n",
    "from sklearn.tree import DecisionTreeRegressor as b"
   ]
  },
  {
   "cell_type": "code",
   "execution_count": 273,
   "metadata": {},
   "outputs": [],
   "source": [
    "reg = a(n_estimators=100, random_state=0).fit(X.values, y)"
   ]
  },
  {
   "cell_type": "code",
   "execution_count": 274,
   "metadata": {},
   "outputs": [],
   "source": [
    "train = X.values"
   ]
  },
  {
   "cell_type": "code",
   "execution_count": 275,
   "metadata": {},
   "outputs": [],
   "source": [
    "from treeinterpreter import treeinterpreter as ti"
   ]
  },
  {
   "cell_type": "code",
   "execution_count": 276,
   "metadata": {},
   "outputs": [],
   "source": [
    "instances = train\n",
    "prediction, bias, contributions = ti.predict(reg, instances)"
   ]
  },
  {
   "cell_type": "code",
   "execution_count": 277,
   "metadata": {},
   "outputs": [],
   "source": [
    "mask = np.copy(train)\n",
    "mask = mask.astype(float)\n",
    "mask[mask==0] = -1\n",
    "mask.shape\n",
    "importance = np.multiply(contributions, mask)"
   ]
  },
  {
   "cell_type": "code",
   "execution_count": 278,
   "metadata": {},
   "outputs": [],
   "source": [
    "importance2 = importance.mean(axis=0)"
   ]
  },
  {
   "cell_type": "code",
   "execution_count": 279,
   "metadata": {},
   "outputs": [],
   "source": [
    "importance = np.divide(importance2, train.mean(axis=0))"
   ]
  },
  {
   "cell_type": "code",
   "execution_count": 280,
   "metadata": {},
   "outputs": [
    {
     "data": {
      "image/png": "[encoded data removed]",
      "text/plain": [
       "<Figure size 864x432 with 1 Axes>"
      ]
     },
     "metadata": {},
     "output_type": "display_data"
    }
   ],
   "source": [
    "indices = np.argsort(importance)[-20:] \n",
    "plt.figure(figsize=(12,6))\n",
    "plt.barh(range(len(indices)), importance[indices], color='b', align='center')\n",
    "plt.yticks(range(len(indices)), [X.columns[i] for i in indices])\n",
    "plt.xlabel('Relative Importance')\n",
    "plt.tight_layout()"
   ]
  },
  {
   "cell_type": "code",
   "execution_count": 207,
   "metadata": {},
   "outputs": [
    {
     "data": {
      "text/plain": [
       "159"
      ]
     },
     "execution_count": 207,
     "metadata": {},
     "output_type": "execute_result"
    }
   ],
   "source": [
    "np.argmax(y)"
   ]
  },
  {
   "cell_type": "code",
   "execution_count": null,
   "metadata": {},
   "outputs": [],
   "source": []
  },
  {
   "cell_type": "code",
   "execution_count": 7,
   "metadata": {},
   "outputs": [],
   "source": [
    "import json\n",
    "with open(QM8_DATA_DIR + 'best_archs.json', 'r') as f:\n",
    "    data = json.load(f)"
   ]
  },
  {
   "cell_type": "code",
   "execution_count": 8,
   "metadata": {},
   "outputs": [
    {
     "name": "stdout",
     "output_type": "stream",
     "text": [
      "WARNING:tensorflow:From /mnt/d/machinelearning2/ANL/deephyper/deephyper/search/nas/model/space/op/gnn.py:8: The name tf.set_random_seed is deprecated. Please use tf.compat.v1.set_random_seed instead.\n",
      "\n"
     ]
    }
   ],
   "source": [
    "from qm8.qm8.problem import Problem\n",
    "import tensorflow.keras.backend as K"
   ]
  },
  {
   "cell_type": "code",
   "execution_count": 9,
   "metadata": {},
   "outputs": [
    {
     "name": "stdout",
     "output_type": "stream",
     "text": [
      "WARNING:tensorflow:From /home/sjiang87/miniconda3/lib/python3.7/site-packages/tensorflow/python/ops/init_ops.py:1251: calling VarianceScaling.__init__ (from tensorflow.python.ops.init_ops) with dtype is deprecated and will be removed in a future version.\n",
      "Instructions for updating:\n",
      "Call initializer instance with the dtype argument instead of passing it to the constructor\n",
      "WARNING:tensorflow:From /home/sjiang87/miniconda3/lib/python3.7/site-packages/tensorflow/python/autograph/impl/api.py:255: calling dropout (from tensorflow.python.ops.nn_ops) with keep_prob is deprecated and will be removed in a future version.\n",
      "Instructions for updating:\n",
      "Please use `rate` instead of `keep_prob`. Rate should be set to `rate = 1 - keep_prob`.\n",
      "0: 181520 -0.31899183988571167\n",
      "1: 179960 -0.3238743245601654\n",
      "2: 211536 -0.3245002031326294\n",
      "3: 187632 -0.32491180300712585\n",
      "4: 198000 -0.32495933771133423\n",
      "5: 180176 -0.3251728415489197\n",
      "6: 181384 -0.32617485523223877\n",
      "7: 189248 -0.32624077796936035\n",
      "8: 188576 -0.3264380395412445\n",
      "9: 179512 -0.32649683952331543\n"
     ]
    }
   ],
   "source": [
    "for i in range(10):\n",
    "    ops = data['arch_seq'][i]\n",
    "    reward = data['rewards'][i]\n",
    "    search_space = Problem.space['create_search_space']['func']()\n",
    "    search_space.set_ops(ops)\n",
    "    model = search_space.create_model()\n",
    "    trainable_count = np.sum([K.count_params(w) for w in model.trainable_weights])\n",
    "    non_trainable_count = np.sum([K.count_params(w) for w in model.non_trainable_weights])\n",
    "    print(f'{i}: {trainable_count} {reward}')"
   ]
  },
  {
   "cell_type": "code",
   "execution_count": 76,
   "metadata": {},
   "outputs": [],
   "source": [
    "a = [12582,1,10199,1,1,7828,1,0,1,9]"
   ]
  },
  {
   "cell_type": "code",
   "execution_count": 77,
   "metadata": {},
   "outputs": [
    {
     "data": {
      "text/plain": [
       "array(['dim(16)[cell1]', 'repeat(2)[cell1]', 'attn(gat)[cell1]',\n",
       "       'head(4)[cell1]', 'aggr(max)[cell1]', 'update(gru)[cell1]',\n",
       "       'act(leaky_relu)[cell1]', 'connect[link1]', 'dim(8)[cell2]',\n",
       "       'repeat(4)[cell2]', 'attn(linear)[cell2]', 'head(1)[cell2]',\n",
       "       'aggr(mean)[cell2]', 'update(gru)[cell2]', 'act(relu6)[cell2]',\n",
       "       'connect[link2]', 'connect[link3]', 'dim(8)[cell3]',\n",
       "       'repeat(2)[cell3]', 'attn(gen-linear)[cell3]', 'head(6)[cell3]',\n",
       "       'aggr(max)[cell3]', 'update(gru)[cell3]', 'act(elu)[cell3]',\n",
       "       'connect[link4]', 'skip[link5]', 'connect[link6]',\n",
       "       'AttentionPool(64)'], dtype=object)"
      ]
     },
     "execution_count": 77,
     "metadata": {},
     "output_type": "execute_result"
    }
   ],
   "source": [
    "state_dims = ['dim(4)', 'dim(8)', 'dim(16)', 'dim(32)']\n",
    "Ts = ['repeat(1)', 'repeat(2)', 'repeat(3)', 'repeat(4)']\n",
    "attn_methods = ['attn(const)', 'attn(gcn)', 'attn(gat)', 'attn(sym-gat)', 'attn(linear)', 'attn(gen-linear)', 'attn(cos)']\n",
    "attn_heads = ['head(1)', 'head(2)', 'head(4)', 'head(6)']\n",
    "aggr_methods = ['aggr(max)', 'aggr(mean)', 'aggr(sum)']\n",
    "update_methods = ['update(gru)', 'update(mlp)']\n",
    "activations = ['act(sigmoid)', 'act(tanh)', 'act(relu)', 'act(linear)', 'act(elu)', 'act(softplus)', 'act(leaky_relu)', 'act(relu6)']\n",
    "\n",
    "out = []\n",
    "for state_dim in state_dims:\n",
    "    for T in Ts:\n",
    "        for attn_method in attn_methods:\n",
    "            for attn_head in attn_heads:\n",
    "                for aggr_method in aggr_methods:\n",
    "                    for update_method in update_methods:\n",
    "                        for activation in activations:\n",
    "                            out.append([state_dim, T, attn_method, attn_head, aggr_method, update_method, activation])\n",
    "\n",
    "out_pool = []\n",
    "for functions in ['GlobalSumPool', 'GlobalMaxPool', 'GlobalAvgPool']:\n",
    "    for axis in ['(feature)', '(node)']:  # Pool in terms of nodes or features\n",
    "        out_pool.append(functions+axis)\n",
    "out_pool.append('flatten')\n",
    "for state_dim in [16, 32, 64]:\n",
    "    out_pool.append(f'AttentionPool({state_dim})')\n",
    "out_pool.append('AttentionSumPool')\n",
    "\n",
    "out_connect = ['skip', 'connect']\n",
    "\n",
    "def get_gat(index):\n",
    "    return out[index]\n",
    "def get_pool(index):\n",
    "    return out_pool[index]\n",
    "def get_connect(index):\n",
    "    return out_connect[index]\n",
    "\n",
    "\n",
    "temp = a\n",
    "b0 = [get_gat(temp[0])[i]+'[cell1]' for i in range(len(get_gat(temp[0])))]\n",
    "b1 = [get_connect(temp[1])+'[link1]']\n",
    "b2 = [get_gat(temp[2])[i]+'[cell2]' for i in range(len(get_gat(temp[2])))]\n",
    "b3 = [get_connect(temp[3])+'[link2]']\n",
    "b4 = [get_connect(temp[4])+'[link3]']\n",
    "b5 = [get_gat(temp[5])[i]+'[cell3]' for i in range(len(get_gat(temp[5])))]\n",
    "b6 = [get_connect(temp[6])+'[link4]']\n",
    "b7 = [get_connect(temp[7])+'[link5]']\n",
    "b8 = [get_connect(temp[8])+'[link6]']\n",
    "b9 = [get_pool(temp[9])]\n",
    "bout = b0+b1+b2+b3+b4+b5+b6+b7+b8+b9\n",
    "bout = np.array(bout, dtype=object)\n",
    "bout"
   ]
  },
  {
   "cell_type": "code",
   "execution_count": null,
   "metadata": {},
   "outputs": [],
   "source": []
  }
 ],
 "metadata": {
  "kernelspec": {
   "display_name": "Python 3",
   "language": "python",
   "name": "python3"
  },
  "language_info": {
   "codemirror_mode": {
    "name": "ipython",
    "version": 3
   },
   "file_extension": ".py",
   "mimetype": "text/x-python",
   "name": "python",
   "nbconvert_exporter": "python",
   "pygments_lexer": "ipython3",
   "version": "3.7.6"
  }
 },
 "nbformat": 4,
 "nbformat_minor": 4
}
